{
 "cells": [
  {
   "cell_type": "code",
   "execution_count": 1,
   "metadata": {},
   "outputs": [],
   "source": [
    "import pandas as pd\n",
    "import numpy as np \n",
    "import seaborn as sns\n",
    "import matplotlib.pyplot as plt\n",
    "%matplotlib inline"
   ]
  },
  {
   "cell_type": "code",
   "execution_count": 2,
   "metadata": {},
   "outputs": [
    {
     "data": {
      "text/html": [
       "<div>\n",
       "<style scoped>\n",
       "    .dataframe tbody tr th:only-of-type {\n",
       "        vertical-align: middle;\n",
       "    }\n",
       "\n",
       "    .dataframe tbody tr th {\n",
       "        vertical-align: top;\n",
       "    }\n",
       "\n",
       "    .dataframe thead th {\n",
       "        text-align: right;\n",
       "    }\n",
       "</style>\n",
       "<table border=\"1\" class=\"dataframe\">\n",
       "  <thead>\n",
       "    <tr style=\"text-align: right;\">\n",
       "      <th></th>\n",
       "      <th>country</th>\n",
       "      <th>year</th>\n",
       "      <th>sex</th>\n",
       "      <th>age</th>\n",
       "      <th>suicides_no</th>\n",
       "      <th>population</th>\n",
       "      <th>suicides/100k pop</th>\n",
       "      <th>country-year</th>\n",
       "      <th>HDI for year</th>\n",
       "      <th>gdp_for_year ($)</th>\n",
       "      <th>gdp_per_capita ($)</th>\n",
       "      <th>generation</th>\n",
       "    </tr>\n",
       "  </thead>\n",
       "  <tbody>\n",
       "    <tr>\n",
       "      <th>0</th>\n",
       "      <td>Albania</td>\n",
       "      <td>1987</td>\n",
       "      <td>male</td>\n",
       "      <td>15-24 years</td>\n",
       "      <td>21.0</td>\n",
       "      <td>312900</td>\n",
       "      <td>6.710000</td>\n",
       "      <td>Albania1987</td>\n",
       "      <td>NaN</td>\n",
       "      <td>2,15,66,24,900</td>\n",
       "      <td>796.000000</td>\n",
       "      <td>Generation X</td>\n",
       "    </tr>\n",
       "    <tr>\n",
       "      <th>1</th>\n",
       "      <td>Albania</td>\n",
       "      <td>1987</td>\n",
       "      <td>male</td>\n",
       "      <td>35-54 years</td>\n",
       "      <td>16.0</td>\n",
       "      <td>308000</td>\n",
       "      <td>5.190000</td>\n",
       "      <td>Albania1987</td>\n",
       "      <td>NaN</td>\n",
       "      <td>2,15,66,24,900</td>\n",
       "      <td>796.000000</td>\n",
       "      <td>Silent</td>\n",
       "    </tr>\n",
       "    <tr>\n",
       "      <th>2</th>\n",
       "      <td>Albania</td>\n",
       "      <td>1987</td>\n",
       "      <td>female</td>\n",
       "      <td>15-24 years</td>\n",
       "      <td>14.0</td>\n",
       "      <td>289700</td>\n",
       "      <td>4.830000</td>\n",
       "      <td>Albania1987</td>\n",
       "      <td>NaN</td>\n",
       "      <td>2,15,66,24,900</td>\n",
       "      <td>796.000000</td>\n",
       "      <td>Generation X</td>\n",
       "    </tr>\n",
       "    <tr>\n",
       "      <th>3</th>\n",
       "      <td>Albania</td>\n",
       "      <td>1987</td>\n",
       "      <td>male</td>\n",
       "      <td>75+ years</td>\n",
       "      <td>1.0</td>\n",
       "      <td>21800</td>\n",
       "      <td>4.590000</td>\n",
       "      <td>Albania1987</td>\n",
       "      <td>NaN</td>\n",
       "      <td>2,15,66,24,900</td>\n",
       "      <td>796.000000</td>\n",
       "      <td>G.I. Generation</td>\n",
       "    </tr>\n",
       "    <tr>\n",
       "      <th>4</th>\n",
       "      <td>Albania</td>\n",
       "      <td>1987</td>\n",
       "      <td>male</td>\n",
       "      <td>25-34 years</td>\n",
       "      <td>9.0</td>\n",
       "      <td>274300</td>\n",
       "      <td>3.280000</td>\n",
       "      <td>Albania1987</td>\n",
       "      <td>NaN</td>\n",
       "      <td>2,15,66,24,900</td>\n",
       "      <td>796.000000</td>\n",
       "      <td>Boomers</td>\n",
       "    </tr>\n",
       "    <tr>\n",
       "      <th>...</th>\n",
       "      <td>...</td>\n",
       "      <td>...</td>\n",
       "      <td>...</td>\n",
       "      <td>...</td>\n",
       "      <td>...</td>\n",
       "      <td>...</td>\n",
       "      <td>...</td>\n",
       "      <td>...</td>\n",
       "      <td>...</td>\n",
       "      <td>...</td>\n",
       "      <td>...</td>\n",
       "      <td>...</td>\n",
       "    </tr>\n",
       "    <tr>\n",
       "      <th>31751</th>\n",
       "      <td>Ukraine</td>\n",
       "      <td>2017</td>\n",
       "      <td>female</td>\n",
       "      <td>75+ years</td>\n",
       "      <td>256.0</td>\n",
       "      <td>44831135</td>\n",
       "      <td>0.571032</td>\n",
       "      <td>Ukraine2017</td>\n",
       "      <td>0.785458</td>\n",
       "      <td>1.12E+11</td>\n",
       "      <td>2638.326055</td>\n",
       "      <td>G.I. Generation</td>\n",
       "    </tr>\n",
       "    <tr>\n",
       "      <th>31752</th>\n",
       "      <td>United Kingdom</td>\n",
       "      <td>2017</td>\n",
       "      <td>female</td>\n",
       "      <td>75+ years</td>\n",
       "      <td>104.0</td>\n",
       "      <td>66058859</td>\n",
       "      <td>0.157435</td>\n",
       "      <td>United Kingdom2017</td>\n",
       "      <td>0.914735</td>\n",
       "      <td>2.70E+12</td>\n",
       "      <td>40857.755580</td>\n",
       "      <td>G.I. Generation</td>\n",
       "    </tr>\n",
       "    <tr>\n",
       "      <th>31753</th>\n",
       "      <td>United States of America</td>\n",
       "      <td>2017</td>\n",
       "      <td>female</td>\n",
       "      <td>75+ years</td>\n",
       "      <td>501.0</td>\n",
       "      <td>325122128</td>\n",
       "      <td>0.154096</td>\n",
       "      <td>United States of America2017</td>\n",
       "      <td>0.918620</td>\n",
       "      <td>1.95E+13</td>\n",
       "      <td>60109.655730</td>\n",
       "      <td>G.I. Generation</td>\n",
       "    </tr>\n",
       "    <tr>\n",
       "      <th>31754</th>\n",
       "      <td>Uruguay</td>\n",
       "      <td>2017</td>\n",
       "      <td>female</td>\n",
       "      <td>75+ years</td>\n",
       "      <td>14.0</td>\n",
       "      <td>3422200</td>\n",
       "      <td>0.409094</td>\n",
       "      <td>Uruguay2017</td>\n",
       "      <td>0.816745</td>\n",
       "      <td>64233966861</td>\n",
       "      <td>18690.893840</td>\n",
       "      <td>G.I. Generation</td>\n",
       "    </tr>\n",
       "    <tr>\n",
       "      <th>31755</th>\n",
       "      <td>Uzbekistan</td>\n",
       "      <td>2017</td>\n",
       "      <td>female</td>\n",
       "      <td>75+ years</td>\n",
       "      <td>3.0</td>\n",
       "      <td>32388600</td>\n",
       "      <td>0.009263</td>\n",
       "      <td>Uzbekistan2017</td>\n",
       "      <td>0.691258</td>\n",
       "      <td>62081323299</td>\n",
       "      <td>1916.764642</td>\n",
       "      <td>G.I. Generation</td>\n",
       "    </tr>\n",
       "  </tbody>\n",
       "</table>\n",
       "<p>31756 rows × 12 columns</p>\n",
       "</div>"
      ],
      "text/plain": [
       "                        country  year     sex          age  suicides_no  \\\n",
       "0                       Albania  1987    male  15-24 years         21.0   \n",
       "1                       Albania  1987    male  35-54 years         16.0   \n",
       "2                       Albania  1987  female  15-24 years         14.0   \n",
       "3                       Albania  1987    male    75+ years          1.0   \n",
       "4                       Albania  1987    male  25-34 years          9.0   \n",
       "...                         ...   ...     ...          ...          ...   \n",
       "31751                   Ukraine  2017  female    75+ years        256.0   \n",
       "31752            United Kingdom  2017  female    75+ years        104.0   \n",
       "31753  United States of America  2017  female    75+ years        501.0   \n",
       "31754                   Uruguay  2017  female    75+ years         14.0   \n",
       "31755                Uzbekistan  2017  female    75+ years          3.0   \n",
       "\n",
       "       population  suicides/100k pop                  country-year  \\\n",
       "0          312900           6.710000                   Albania1987   \n",
       "1          308000           5.190000                   Albania1987   \n",
       "2          289700           4.830000                   Albania1987   \n",
       "3           21800           4.590000                   Albania1987   \n",
       "4          274300           3.280000                   Albania1987   \n",
       "...           ...                ...                           ...   \n",
       "31751    44831135           0.571032                   Ukraine2017   \n",
       "31752    66058859           0.157435            United Kingdom2017   \n",
       "31753   325122128           0.154096  United States of America2017   \n",
       "31754     3422200           0.409094                   Uruguay2017   \n",
       "31755    32388600           0.009263                Uzbekistan2017   \n",
       "\n",
       "       HDI for year  gdp_for_year ($)   gdp_per_capita ($)       generation  \n",
       "0               NaN     2,15,66,24,900          796.000000     Generation X  \n",
       "1               NaN     2,15,66,24,900          796.000000           Silent  \n",
       "2               NaN     2,15,66,24,900          796.000000     Generation X  \n",
       "3               NaN     2,15,66,24,900          796.000000  G.I. Generation  \n",
       "4               NaN     2,15,66,24,900          796.000000          Boomers  \n",
       "...             ...                ...                 ...              ...  \n",
       "31751      0.785458           1.12E+11         2638.326055  G.I. Generation  \n",
       "31752      0.914735           2.70E+12        40857.755580  G.I. Generation  \n",
       "31753      0.918620           1.95E+13        60109.655730  G.I. Generation  \n",
       "31754      0.816745        64233966861        18690.893840  G.I. Generation  \n",
       "31755      0.691258        62081323299         1916.764642  G.I. Generation  \n",
       "\n",
       "[31756 rows x 12 columns]"
      ]
     },
     "execution_count": 2,
     "metadata": {},
     "output_type": "execute_result"
    }
   ],
   "source": [
    "df= pd.read_csv('C:/Users/SKM/Desktop/2nd Sem/ADS Final/master.csv')\n",
    "df"
   ]
  },
  {
   "cell_type": "code",
   "execution_count": 3,
   "metadata": {},
   "outputs": [],
   "source": [
    "dfnn=pd.read_csv('C:/Users/SKM/Desktop/2nd Sem/ADS Final/newcleaned.csv')"
   ]
  },
  {
   "cell_type": "markdown",
   "metadata": {},
   "source": [
    "## ----------Data Cleaning and Preprocessing--------------"
   ]
  },
  {
   "cell_type": "code",
   "execution_count": 4,
   "metadata": {},
   "outputs": [],
   "source": [
    "df.drop(['country-year','HDI for year'],inplace=True,axis=1)"
   ]
  },
  {
   "cell_type": "code",
   "execution_count": 5,
   "metadata": {},
   "outputs": [],
   "source": [
    "#Encoding Values\n",
    "df['sex'].replace('male',0,inplace=True)\n",
    "df['sex'].replace('female',1,inplace=True)"
   ]
  },
  {
   "cell_type": "code",
   "execution_count": 6,
   "metadata": {},
   "outputs": [],
   "source": [
    "numeric = {'5-14 years': 0, '15-24 years': 1, '25-34 years': 2, '35-54 years' : 3,'55-74 years': 4,'75+ years' : 5}"
   ]
  },
  {
   "cell_type": "code",
   "execution_count": 7,
   "metadata": {},
   "outputs": [],
   "source": [
    "df['age_group'] = df['age'].replace(numeric)"
   ]
  },
  {
   "cell_type": "code",
   "execution_count": 8,
   "metadata": {},
   "outputs": [],
   "source": [
    "df.drop('age',inplace=True,axis=1)"
   ]
  },
  {
   "cell_type": "code",
   "execution_count": 9,
   "metadata": {},
   "outputs": [
    {
     "data": {
      "text/plain": [
       "array(['Generation X', 'Silent', 'G.I. Generation', 'Boomers',\n",
       "       'Millenials', 'Generation Z'], dtype=object)"
      ]
     },
     "execution_count": 9,
     "metadata": {},
     "output_type": "execute_result"
    }
   ],
   "source": [
    "df['generation'].unique()"
   ]
  },
  {
   "cell_type": "code",
   "execution_count": 10,
   "metadata": {},
   "outputs": [],
   "source": [
    "gen={'Generation X':0, 'Silent':1, 'G.I. Generation':2, 'Boomers':3,\n",
    "       'Millenials':4, 'Generation Z':5}"
   ]
  },
  {
   "cell_type": "code",
   "execution_count": 11,
   "metadata": {},
   "outputs": [],
   "source": [
    "df['generation'].replace(gen,inplace=True)"
   ]
  },
  {
   "cell_type": "code",
   "execution_count": 12,
   "metadata": {},
   "outputs": [
    {
     "name": "stdout",
     "output_type": "stream",
     "text": [
      "country               0.000000\n",
      "year                  0.000000\n",
      "sex                   0.000000\n",
      "suicides_no           3.778813\n",
      "population            0.000000\n",
      "suicides/100k pop     0.000000\n",
      " gdp_for_year ($)     0.000000\n",
      "gdp_per_capita ($)    0.000000\n",
      "generation            0.000000\n",
      "age_group             0.000000\n",
      "dtype: float64\n"
     ]
    }
   ],
   "source": [
    "#Check the percentage of missing values\n",
    "missing_values = df.isna().sum()\n",
    "percent_missing = (missing_values / len(df)) * 100\n",
    "print(percent_missing)"
   ]
  },
  {
   "cell_type": "code",
   "execution_count": 13,
   "metadata": {},
   "outputs": [],
   "source": [
    "#Drop Null Values\n",
    "df.dropna(inplace=True)"
   ]
  },
  {
   "cell_type": "code",
   "execution_count": 14,
   "metadata": {},
   "outputs": [
    {
     "data": {
      "text/plain": [
       "country               0\n",
       "year                  0\n",
       "sex                   0\n",
       "suicides_no           0\n",
       "population            0\n",
       "suicides/100k pop     0\n",
       " gdp_for_year ($)     0\n",
       "gdp_per_capita ($)    0\n",
       "generation            0\n",
       "age_group             0\n",
       "dtype: int64"
      ]
     },
     "execution_count": 14,
     "metadata": {},
     "output_type": "execute_result"
    }
   ],
   "source": [
    "df.isna().sum()"
   ]
  },
  {
   "cell_type": "code",
   "execution_count": 15,
   "metadata": {},
   "outputs": [],
   "source": [
    "df.replace(\"Republic of Korea\", \"Korea, Republic of\", inplace = True)\n",
    "df.replace('Czech Republic', \"Czechia\", inplace = True)\n",
    "df.replace('Macau', 'Macao', inplace = True)\n",
    "df.replace('Saint Vincent and Grenadines', \"Saint Vincent and the Grenadines\", inplace = True)\n",
    "df.replace('China, Hong Kong SAR', 'China', inplace = True)"
   ]
  },
  {
   "cell_type": "code",
   "execution_count": 16,
   "metadata": {},
   "outputs": [],
   "source": [
    "import pycountry_convert as pc\n",
    "continent =[]\n",
    "def country_to_continent(country_name):\n",
    "    country_alpha2 = pc.country_name_to_country_alpha2(country_name)\n",
    "    country_continent_code = pc.country_alpha2_to_continent_code(country_alpha2)\n",
    "    country_continent_name = pc.convert_continent_code_to_continent_name(country_continent_code)\n",
    "    return country_continent_name\n",
    "for i in df['country']:\n",
    "    continent.append(country_to_continent(i))\n",
    "con=pd.DataFrame(continent)\n"
   ]
  },
  {
   "cell_type": "code",
   "execution_count": 17,
   "metadata": {},
   "outputs": [
    {
     "data": {
      "text/plain": [
       "(30556, 1)"
      ]
     },
     "execution_count": 17,
     "metadata": {},
     "output_type": "execute_result"
    }
   ],
   "source": [
    "con.shape"
   ]
  },
  {
   "cell_type": "code",
   "execution_count": 18,
   "metadata": {},
   "outputs": [],
   "source": [
    "ndf=pd.concat([dfnn,con],axis=1)"
   ]
  },
  {
   "cell_type": "code",
   "execution_count": 19,
   "metadata": {},
   "outputs": [
    {
     "data": {
      "text/html": [
       "<div>\n",
       "<style scoped>\n",
       "    .dataframe tbody tr th:only-of-type {\n",
       "        vertical-align: middle;\n",
       "    }\n",
       "\n",
       "    .dataframe tbody tr th {\n",
       "        vertical-align: top;\n",
       "    }\n",
       "\n",
       "    .dataframe thead th {\n",
       "        text-align: right;\n",
       "    }\n",
       "</style>\n",
       "<table border=\"1\" class=\"dataframe\">\n",
       "  <thead>\n",
       "    <tr style=\"text-align: right;\">\n",
       "      <th></th>\n",
       "      <th>Unnamed: 0</th>\n",
       "      <th>country</th>\n",
       "      <th>year</th>\n",
       "      <th>sex</th>\n",
       "      <th>suicides_no</th>\n",
       "      <th>population</th>\n",
       "      <th>suicides/100k pop</th>\n",
       "      <th>gdp_for_year ($)</th>\n",
       "      <th>gdp_per_capita ($)</th>\n",
       "      <th>generation</th>\n",
       "      <th>age_group</th>\n",
       "      <th>0</th>\n",
       "    </tr>\n",
       "  </thead>\n",
       "  <tbody>\n",
       "    <tr>\n",
       "      <th>0</th>\n",
       "      <td>0</td>\n",
       "      <td>Albania</td>\n",
       "      <td>1987</td>\n",
       "      <td>0</td>\n",
       "      <td>21.0</td>\n",
       "      <td>312900</td>\n",
       "      <td>6.710000</td>\n",
       "      <td>2,15,66,24,900</td>\n",
       "      <td>796.000000</td>\n",
       "      <td>0</td>\n",
       "      <td>1</td>\n",
       "      <td>Europe</td>\n",
       "    </tr>\n",
       "    <tr>\n",
       "      <th>1</th>\n",
       "      <td>1</td>\n",
       "      <td>Albania</td>\n",
       "      <td>1987</td>\n",
       "      <td>0</td>\n",
       "      <td>16.0</td>\n",
       "      <td>308000</td>\n",
       "      <td>5.190000</td>\n",
       "      <td>2,15,66,24,900</td>\n",
       "      <td>796.000000</td>\n",
       "      <td>1</td>\n",
       "      <td>3</td>\n",
       "      <td>Europe</td>\n",
       "    </tr>\n",
       "    <tr>\n",
       "      <th>2</th>\n",
       "      <td>2</td>\n",
       "      <td>Albania</td>\n",
       "      <td>1987</td>\n",
       "      <td>1</td>\n",
       "      <td>14.0</td>\n",
       "      <td>289700</td>\n",
       "      <td>4.830000</td>\n",
       "      <td>2,15,66,24,900</td>\n",
       "      <td>796.000000</td>\n",
       "      <td>0</td>\n",
       "      <td>1</td>\n",
       "      <td>Europe</td>\n",
       "    </tr>\n",
       "    <tr>\n",
       "      <th>3</th>\n",
       "      <td>3</td>\n",
       "      <td>Albania</td>\n",
       "      <td>1987</td>\n",
       "      <td>0</td>\n",
       "      <td>1.0</td>\n",
       "      <td>21800</td>\n",
       "      <td>4.590000</td>\n",
       "      <td>2,15,66,24,900</td>\n",
       "      <td>796.000000</td>\n",
       "      <td>2</td>\n",
       "      <td>5</td>\n",
       "      <td>Europe</td>\n",
       "    </tr>\n",
       "    <tr>\n",
       "      <th>4</th>\n",
       "      <td>4</td>\n",
       "      <td>Albania</td>\n",
       "      <td>1987</td>\n",
       "      <td>0</td>\n",
       "      <td>9.0</td>\n",
       "      <td>274300</td>\n",
       "      <td>3.280000</td>\n",
       "      <td>2,15,66,24,900</td>\n",
       "      <td>796.000000</td>\n",
       "      <td>3</td>\n",
       "      <td>2</td>\n",
       "      <td>Europe</td>\n",
       "    </tr>\n",
       "    <tr>\n",
       "      <th>...</th>\n",
       "      <td>...</td>\n",
       "      <td>...</td>\n",
       "      <td>...</td>\n",
       "      <td>...</td>\n",
       "      <td>...</td>\n",
       "      <td>...</td>\n",
       "      <td>...</td>\n",
       "      <td>...</td>\n",
       "      <td>...</td>\n",
       "      <td>...</td>\n",
       "      <td>...</td>\n",
       "      <td>...</td>\n",
       "    </tr>\n",
       "    <tr>\n",
       "      <th>30551</th>\n",
       "      <td>31751</td>\n",
       "      <td>Ukraine</td>\n",
       "      <td>2017</td>\n",
       "      <td>1</td>\n",
       "      <td>256.0</td>\n",
       "      <td>44831135</td>\n",
       "      <td>0.571032</td>\n",
       "      <td>1.12E+11</td>\n",
       "      <td>2638.326055</td>\n",
       "      <td>2</td>\n",
       "      <td>5</td>\n",
       "      <td>Europe</td>\n",
       "    </tr>\n",
       "    <tr>\n",
       "      <th>30552</th>\n",
       "      <td>31752</td>\n",
       "      <td>United Kingdom</td>\n",
       "      <td>2017</td>\n",
       "      <td>1</td>\n",
       "      <td>104.0</td>\n",
       "      <td>66058859</td>\n",
       "      <td>0.157435</td>\n",
       "      <td>2.70E+12</td>\n",
       "      <td>40857.755580</td>\n",
       "      <td>2</td>\n",
       "      <td>5</td>\n",
       "      <td>Europe</td>\n",
       "    </tr>\n",
       "    <tr>\n",
       "      <th>30553</th>\n",
       "      <td>31753</td>\n",
       "      <td>United States of America</td>\n",
       "      <td>2017</td>\n",
       "      <td>1</td>\n",
       "      <td>501.0</td>\n",
       "      <td>325122128</td>\n",
       "      <td>0.154096</td>\n",
       "      <td>1.95E+13</td>\n",
       "      <td>60109.655730</td>\n",
       "      <td>2</td>\n",
       "      <td>5</td>\n",
       "      <td>North America</td>\n",
       "    </tr>\n",
       "    <tr>\n",
       "      <th>30554</th>\n",
       "      <td>31754</td>\n",
       "      <td>Uruguay</td>\n",
       "      <td>2017</td>\n",
       "      <td>1</td>\n",
       "      <td>14.0</td>\n",
       "      <td>3422200</td>\n",
       "      <td>0.409094</td>\n",
       "      <td>64233966861</td>\n",
       "      <td>18690.893840</td>\n",
       "      <td>2</td>\n",
       "      <td>5</td>\n",
       "      <td>South America</td>\n",
       "    </tr>\n",
       "    <tr>\n",
       "      <th>30555</th>\n",
       "      <td>31755</td>\n",
       "      <td>Uzbekistan</td>\n",
       "      <td>2017</td>\n",
       "      <td>1</td>\n",
       "      <td>3.0</td>\n",
       "      <td>32388600</td>\n",
       "      <td>0.009263</td>\n",
       "      <td>62081323299</td>\n",
       "      <td>1916.764642</td>\n",
       "      <td>2</td>\n",
       "      <td>5</td>\n",
       "      <td>Asia</td>\n",
       "    </tr>\n",
       "  </tbody>\n",
       "</table>\n",
       "<p>30556 rows × 12 columns</p>\n",
       "</div>"
      ],
      "text/plain": [
       "       Unnamed: 0                   country  year  sex  suicides_no  \\\n",
       "0               0                   Albania  1987    0         21.0   \n",
       "1               1                   Albania  1987    0         16.0   \n",
       "2               2                   Albania  1987    1         14.0   \n",
       "3               3                   Albania  1987    0          1.0   \n",
       "4               4                   Albania  1987    0          9.0   \n",
       "...           ...                       ...   ...  ...          ...   \n",
       "30551       31751                   Ukraine  2017    1        256.0   \n",
       "30552       31752            United Kingdom  2017    1        104.0   \n",
       "30553       31753  United States of America  2017    1        501.0   \n",
       "30554       31754                   Uruguay  2017    1         14.0   \n",
       "30555       31755                Uzbekistan  2017    1          3.0   \n",
       "\n",
       "       population  suicides/100k pop  gdp_for_year ($)   gdp_per_capita ($)  \\\n",
       "0          312900           6.710000     2,15,66,24,900          796.000000   \n",
       "1          308000           5.190000     2,15,66,24,900          796.000000   \n",
       "2          289700           4.830000     2,15,66,24,900          796.000000   \n",
       "3           21800           4.590000     2,15,66,24,900          796.000000   \n",
       "4          274300           3.280000     2,15,66,24,900          796.000000   \n",
       "...           ...                ...                ...                 ...   \n",
       "30551    44831135           0.571032           1.12E+11         2638.326055   \n",
       "30552    66058859           0.157435           2.70E+12        40857.755580   \n",
       "30553   325122128           0.154096           1.95E+13        60109.655730   \n",
       "30554     3422200           0.409094        64233966861        18690.893840   \n",
       "30555    32388600           0.009263        62081323299         1916.764642   \n",
       "\n",
       "       generation  age_group              0  \n",
       "0               0          1         Europe  \n",
       "1               1          3         Europe  \n",
       "2               0          1         Europe  \n",
       "3               2          5         Europe  \n",
       "4               3          2         Europe  \n",
       "...           ...        ...            ...  \n",
       "30551           2          5         Europe  \n",
       "30552           2          5         Europe  \n",
       "30553           2          5  North America  \n",
       "30554           2          5  South America  \n",
       "30555           2          5           Asia  \n",
       "\n",
       "[30556 rows x 12 columns]"
      ]
     },
     "execution_count": 19,
     "metadata": {},
     "output_type": "execute_result"
    }
   ],
   "source": [
    "ndf"
   ]
  },
  {
   "cell_type": "code",
   "execution_count": 20,
   "metadata": {},
   "outputs": [
    {
     "data": {
      "text/html": [
       "<div>\n",
       "<style scoped>\n",
       "    .dataframe tbody tr th:only-of-type {\n",
       "        vertical-align: middle;\n",
       "    }\n",
       "\n",
       "    .dataframe tbody tr th {\n",
       "        vertical-align: top;\n",
       "    }\n",
       "\n",
       "    .dataframe thead th {\n",
       "        text-align: right;\n",
       "    }\n",
       "</style>\n",
       "<table border=\"1\" class=\"dataframe\">\n",
       "  <thead>\n",
       "    <tr style=\"text-align: right;\">\n",
       "      <th></th>\n",
       "      <th>country</th>\n",
       "      <th>year</th>\n",
       "      <th>sex</th>\n",
       "      <th>suicides_no</th>\n",
       "      <th>population</th>\n",
       "      <th>suicides/100k pop</th>\n",
       "      <th>gdp_for_year ($)</th>\n",
       "      <th>gdp_per_capita ($)</th>\n",
       "      <th>generation</th>\n",
       "      <th>age_group</th>\n",
       "      <th>0</th>\n",
       "    </tr>\n",
       "  </thead>\n",
       "  <tbody>\n",
       "    <tr>\n",
       "      <th>0</th>\n",
       "      <td>Albania</td>\n",
       "      <td>1987</td>\n",
       "      <td>0</td>\n",
       "      <td>21.0</td>\n",
       "      <td>312900</td>\n",
       "      <td>6.710000</td>\n",
       "      <td>2,15,66,24,900</td>\n",
       "      <td>796.000000</td>\n",
       "      <td>0</td>\n",
       "      <td>1</td>\n",
       "      <td>Europe</td>\n",
       "    </tr>\n",
       "    <tr>\n",
       "      <th>1</th>\n",
       "      <td>Albania</td>\n",
       "      <td>1987</td>\n",
       "      <td>0</td>\n",
       "      <td>16.0</td>\n",
       "      <td>308000</td>\n",
       "      <td>5.190000</td>\n",
       "      <td>2,15,66,24,900</td>\n",
       "      <td>796.000000</td>\n",
       "      <td>1</td>\n",
       "      <td>3</td>\n",
       "      <td>Europe</td>\n",
       "    </tr>\n",
       "    <tr>\n",
       "      <th>2</th>\n",
       "      <td>Albania</td>\n",
       "      <td>1987</td>\n",
       "      <td>1</td>\n",
       "      <td>14.0</td>\n",
       "      <td>289700</td>\n",
       "      <td>4.830000</td>\n",
       "      <td>2,15,66,24,900</td>\n",
       "      <td>796.000000</td>\n",
       "      <td>0</td>\n",
       "      <td>1</td>\n",
       "      <td>Europe</td>\n",
       "    </tr>\n",
       "    <tr>\n",
       "      <th>3</th>\n",
       "      <td>Albania</td>\n",
       "      <td>1987</td>\n",
       "      <td>0</td>\n",
       "      <td>1.0</td>\n",
       "      <td>21800</td>\n",
       "      <td>4.590000</td>\n",
       "      <td>2,15,66,24,900</td>\n",
       "      <td>796.000000</td>\n",
       "      <td>2</td>\n",
       "      <td>5</td>\n",
       "      <td>Europe</td>\n",
       "    </tr>\n",
       "    <tr>\n",
       "      <th>4</th>\n",
       "      <td>Albania</td>\n",
       "      <td>1987</td>\n",
       "      <td>0</td>\n",
       "      <td>9.0</td>\n",
       "      <td>274300</td>\n",
       "      <td>3.280000</td>\n",
       "      <td>2,15,66,24,900</td>\n",
       "      <td>796.000000</td>\n",
       "      <td>3</td>\n",
       "      <td>2</td>\n",
       "      <td>Europe</td>\n",
       "    </tr>\n",
       "    <tr>\n",
       "      <th>...</th>\n",
       "      <td>...</td>\n",
       "      <td>...</td>\n",
       "      <td>...</td>\n",
       "      <td>...</td>\n",
       "      <td>...</td>\n",
       "      <td>...</td>\n",
       "      <td>...</td>\n",
       "      <td>...</td>\n",
       "      <td>...</td>\n",
       "      <td>...</td>\n",
       "      <td>...</td>\n",
       "    </tr>\n",
       "    <tr>\n",
       "      <th>30551</th>\n",
       "      <td>Ukraine</td>\n",
       "      <td>2017</td>\n",
       "      <td>1</td>\n",
       "      <td>256.0</td>\n",
       "      <td>44831135</td>\n",
       "      <td>0.571032</td>\n",
       "      <td>1.12E+11</td>\n",
       "      <td>2638.326055</td>\n",
       "      <td>2</td>\n",
       "      <td>5</td>\n",
       "      <td>Europe</td>\n",
       "    </tr>\n",
       "    <tr>\n",
       "      <th>30552</th>\n",
       "      <td>United Kingdom</td>\n",
       "      <td>2017</td>\n",
       "      <td>1</td>\n",
       "      <td>104.0</td>\n",
       "      <td>66058859</td>\n",
       "      <td>0.157435</td>\n",
       "      <td>2.70E+12</td>\n",
       "      <td>40857.755580</td>\n",
       "      <td>2</td>\n",
       "      <td>5</td>\n",
       "      <td>Europe</td>\n",
       "    </tr>\n",
       "    <tr>\n",
       "      <th>30553</th>\n",
       "      <td>United States of America</td>\n",
       "      <td>2017</td>\n",
       "      <td>1</td>\n",
       "      <td>501.0</td>\n",
       "      <td>325122128</td>\n",
       "      <td>0.154096</td>\n",
       "      <td>1.95E+13</td>\n",
       "      <td>60109.655730</td>\n",
       "      <td>2</td>\n",
       "      <td>5</td>\n",
       "      <td>North America</td>\n",
       "    </tr>\n",
       "    <tr>\n",
       "      <th>30554</th>\n",
       "      <td>Uruguay</td>\n",
       "      <td>2017</td>\n",
       "      <td>1</td>\n",
       "      <td>14.0</td>\n",
       "      <td>3422200</td>\n",
       "      <td>0.409094</td>\n",
       "      <td>64233966861</td>\n",
       "      <td>18690.893840</td>\n",
       "      <td>2</td>\n",
       "      <td>5</td>\n",
       "      <td>South America</td>\n",
       "    </tr>\n",
       "    <tr>\n",
       "      <th>30555</th>\n",
       "      <td>Uzbekistan</td>\n",
       "      <td>2017</td>\n",
       "      <td>1</td>\n",
       "      <td>3.0</td>\n",
       "      <td>32388600</td>\n",
       "      <td>0.009263</td>\n",
       "      <td>62081323299</td>\n",
       "      <td>1916.764642</td>\n",
       "      <td>2</td>\n",
       "      <td>5</td>\n",
       "      <td>Asia</td>\n",
       "    </tr>\n",
       "  </tbody>\n",
       "</table>\n",
       "<p>30556 rows × 11 columns</p>\n",
       "</div>"
      ],
      "text/plain": [
       "                        country  year  sex  suicides_no  population  \\\n",
       "0                       Albania  1987    0         21.0      312900   \n",
       "1                       Albania  1987    0         16.0      308000   \n",
       "2                       Albania  1987    1         14.0      289700   \n",
       "3                       Albania  1987    0          1.0       21800   \n",
       "4                       Albania  1987    0          9.0      274300   \n",
       "...                         ...   ...  ...          ...         ...   \n",
       "30551                   Ukraine  2017    1        256.0    44831135   \n",
       "30552            United Kingdom  2017    1        104.0    66058859   \n",
       "30553  United States of America  2017    1        501.0   325122128   \n",
       "30554                   Uruguay  2017    1         14.0     3422200   \n",
       "30555                Uzbekistan  2017    1          3.0    32388600   \n",
       "\n",
       "       suicides/100k pop  gdp_for_year ($)   gdp_per_capita ($)  generation  \\\n",
       "0               6.710000     2,15,66,24,900          796.000000           0   \n",
       "1               5.190000     2,15,66,24,900          796.000000           1   \n",
       "2               4.830000     2,15,66,24,900          796.000000           0   \n",
       "3               4.590000     2,15,66,24,900          796.000000           2   \n",
       "4               3.280000     2,15,66,24,900          796.000000           3   \n",
       "...                  ...                ...                 ...         ...   \n",
       "30551           0.571032           1.12E+11         2638.326055           2   \n",
       "30552           0.157435           2.70E+12        40857.755580           2   \n",
       "30553           0.154096           1.95E+13        60109.655730           2   \n",
       "30554           0.409094        64233966861        18690.893840           2   \n",
       "30555           0.009263        62081323299         1916.764642           2   \n",
       "\n",
       "       age_group              0  \n",
       "0              1         Europe  \n",
       "1              3         Europe  \n",
       "2              1         Europe  \n",
       "3              5         Europe  \n",
       "4              2         Europe  \n",
       "...          ...            ...  \n",
       "30551          5         Europe  \n",
       "30552          5         Europe  \n",
       "30553          5  North America  \n",
       "30554          5  South America  \n",
       "30555          5           Asia  \n",
       "\n",
       "[30556 rows x 11 columns]"
      ]
     },
     "execution_count": 20,
     "metadata": {},
     "output_type": "execute_result"
    }
   ],
   "source": [
    "ndf.drop('Unnamed: 0',axis=1)"
   ]
  },
  {
   "cell_type": "code",
   "execution_count": 21,
   "metadata": {},
   "outputs": [],
   "source": [
    "ndf.rename({0:'continent'}, axis=1, inplace = True)"
   ]
  },
  {
   "cell_type": "code",
   "execution_count": 22,
   "metadata": {},
   "outputs": [
    {
     "data": {
      "text/plain": [
       "array(['Europe', 'North America', 'South America', 'Asia', 'Oceania',\n",
       "       'Africa'], dtype=object)"
      ]
     },
     "execution_count": 22,
     "metadata": {},
     "output_type": "execute_result"
    }
   ],
   "source": [
    "ndf['continent'].unique()"
   ]
  },
  {
   "cell_type": "markdown",
   "metadata": {},
   "source": [
    "## -------------Exploratory Data Analysis (EDA)---------------------"
   ]
  },
  {
   "cell_type": "code",
   "execution_count": 23,
   "metadata": {},
   "outputs": [
    {
     "data": {
      "image/png": "[encoded data removed]",
      "text/plain": [
       "<Figure size 360x360 with 1 Axes>"
      ]
     },
     "metadata": {
      "needs_background": "light"
     },
     "output_type": "display_data"
    }
   ],
   "source": [
    "gender_counts = df.groupby('sex')['suicides_no'].sum().reset_index()\n",
    "sns.catplot(data=gender_counts, x='sex', y='suicides_no', kind='bar')\n",
    "plt.xlabel('Gender')\n",
    "plt.ylabel('Count')\n",
    "plt.title('Suicide Count Gender Wise')\n",
    "plt.show()"
   ]
  },
  {
   "cell_type": "code",
   "execution_count": 24,
   "metadata": {},
   "outputs": [
    {
     "data": {
      "text/plain": [
       "<Figure size 1440x720 with 0 Axes>"
      ]
     },
     "execution_count": 24,
     "metadata": {},
     "output_type": "execute_result"
    },
    {
     "data": {
      "image/png": "[encoded data removed]",
      "text/plain": [
       "<Figure size 432x288 with 1 Axes>"
      ]
     },
     "metadata": {
      "needs_background": "light"
     },
     "output_type": "display_data"
    },
    {
     "data": {
      "text/plain": [
       "<Figure size 1440x720 with 0 Axes>"
      ]
     },
     "metadata": {},
     "output_type": "display_data"
    }
   ],
   "source": [
    "sns.lineplot(x='year',y='suicides_no',data=df)\n",
    "plt.figure(figsize=(20,10))"
   ]
  },
  {
   "cell_type": "code",
   "execution_count": 25,
   "metadata": {},
   "outputs": [
    {
     "data": {
      "text/plain": [
       "<matplotlib.legend.Legend at 0x1b3ebb1df88>"
      ]
     },
     "execution_count": 25,
     "metadata": {},
     "output_type": "execute_result"
    },
    {
     "data": {
      "image/png": "[encoded data removed]",
      "text/plain": [
       "<Figure size 432x288 with 1 Axes>"
      ]
     },
     "metadata": {
      "needs_background": "light"
     },
     "output_type": "display_data"
    }
   ],
   "source": [
    "df_men = df[df['sex']== 0]\n",
    "df_women = df[df['sex']== 1]\n",
    "sns.lineplot(x=df_men.year, y='suicides_no',data=df)\n",
    "sns.lineplot(x=df_women.year, y='suicides_no',data=df)\n",
    "plt.legend([\"male\", 'female'])"
   ]
  },
  {
   "cell_type": "code",
   "execution_count": 26,
   "metadata": {},
   "outputs": [
    {
     "data": {
      "text/plain": [
       "12.176806410943877"
      ]
     },
     "execution_count": 26,
     "metadata": {},
     "output_type": "execute_result"
    }
   ],
   "source": [
    "df['suicides/100k pop'].mean()"
   ]
  },
  {
   "cell_type": "code",
   "execution_count": 27,
   "metadata": {},
   "outputs": [
    {
     "data": {
      "image/png": "[encoded data removed]",
      "text/plain": [
       "<Figure size 432x288 with 1 Axes>"
      ]
     },
     "metadata": {},
     "output_type": "display_data"
    }
   ],
   "source": [
    "a=ndf.groupby('continent').count()\n",
    "fig, ax = plt.subplots()\n",
    "ax.pie(a['country'], labels=['Europe', 'North America', 'South America', 'Asia', 'Oceania',\n",
    "       'Africa'], autopct='%1.1f%%')\n",
    "ax.set_title('Pie Chart Example')\n",
    "plt.show()"
   ]
  },
  {
   "cell_type": "code",
   "execution_count": 28,
   "metadata": {},
   "outputs": [],
   "source": [
    "x = df.groupby('country')"
   ]
  },
  {
   "cell_type": "code",
   "execution_count": 29,
   "metadata": {},
   "outputs": [
    {
     "data": {
      "text/plain": [
       "array([3.50287879e+00, 5.33154762e-01, 9.59906424e+00, 2.93883240e+00,\n",
       "       9.50309524e+00, 1.15904543e+01, 2.12287783e+01, 1.85541667e+00,\n",
       "       1.24739130e+00, 1.85412698e+00, 2.97043333e+00, 2.97358879e+01,\n",
       "       2.00286754e+01, 6.23062500e+00, 4.61708333e+00, 5.36444492e+00,\n",
       "       2.04896786e-01, 1.77861043e+01, 1.11533333e+01, 1.13919567e+01,\n",
       "       9.95360638e+00, 5.01355458e-03, 4.96730688e+00, 6.32717574e+00,\n",
       "       2.10228248e+01, 1.89875019e+01, 2.93285758e+00, 1.62202613e+01,\n",
       "       1.29925098e+01, 0.00000000e+00, 5.29161913e-01, 5.64869133e+00,\n",
       "       6.02474711e-03, 9.75608034e+00, 2.31203395e+01, 5.10500000e+00,\n",
       "       2.07480882e+01, 2.16756944e+01, 3.65241728e+00, 1.35891372e+01,\n",
       "       3.74315963e+00, 1.98151792e+00, 2.84517862e+00, 2.21864000e+01,\n",
       "       2.94957407e+01, 1.14719118e+01, 1.04588932e+01, 8.43343017e+00,\n",
       "       8.26921471e+00, 5.21764706e-01, 1.97466001e+01, 1.04905198e-02,\n",
       "       2.65893841e+01, 6.65537879e+00, 4.72190052e+01, 1.07551616e+00,\n",
       "       1.28604641e+01, 2.47925623e+01, 4.17970518e-02, 3.44681149e+01,\n",
       "       1.51552054e+01, 1.43116667e+01, 1.05949498e+00, 4.88893722e+00,\n",
       "       1.04691233e+01, 4.22077873e+00, 1.84390000e+01, 8.39789776e+00,\n",
       "       9.55634650e+00, 1.43917241e+01, 4.52293813e+00, 4.40759494e-01,\n",
       "       1.29410000e+01, 7.36111111e-01, 5.21462640e+00, 3.85105916e+00,\n",
       "       1.18809353e-01, 2.05289943e+00, 1.36901752e+01, 1.06130347e+01,\n",
       "       9.88726024e+00, 1.78735955e+00, 3.86943173e+01, 1.13524414e+01,\n",
       "       3.14648203e+01, 0.00000000e+00, 7.20273810e+00, 5.53407051e+00,\n",
       "       4.04500000e+00, 1.82862213e+01, 6.79239127e+00, 1.51531741e+01,\n",
       "       2.04317858e+01, 2.36193501e+01, 8.81444856e-01, 8.43670727e+00,\n",
       "       3.52951515e+01, 2.13164286e+01, 1.38011851e+01, 1.74572551e+01,\n",
       "       1.65256385e-01, 6.44183741e+00, 1.38256481e+01, 2.11718684e+00,\n",
       "       8.60554598e+00, 2.41201018e+01, 1.31791667e+00, 6.89738687e+00,\n",
       "       1.38198118e+01, 3.88990434e-01, 1.77441960e+01, 7.19815858e+00])"
      ]
     },
     "execution_count": 29,
     "metadata": {},
     "output_type": "execute_result"
    }
   ],
   "source": [
    "x['suicides/100k pop'].mean().values"
   ]
  },
  {
   "cell_type": "code",
   "execution_count": 30,
   "metadata": {},
   "outputs": [],
   "source": [
    "G7_countries = ['Canada','France','Germany','Italy','Japan','United Kingdom','United States of America']"
   ]
  },
  {
   "cell_type": "code",
   "execution_count": 33,
   "metadata": {},
   "outputs": [],
   "source": [
    "G7 = ndf[ndf['country'].isin(G7_countries)]"
   ]
  },
  {
   "cell_type": "code",
   "execution_count": 34,
   "metadata": {},
   "outputs": [
    {
     "data": {
      "text/plain": [
       "13.237520161355869"
      ]
     },
     "execution_count": 34,
     "metadata": {},
     "output_type": "execute_result"
    }
   ],
   "source": [
    "G7['suicides/100k pop'].mean()"
   ]
  },
  {
   "cell_type": "code",
   "execution_count": 35,
   "metadata": {},
   "outputs": [
    {
     "name": "stderr",
     "output_type": "stream",
     "text": [
      "C:\\Users\\SKM\\anaconda3\\lib\\site-packages\\ipykernel_launcher.py:1: SettingWithCopyWarning: \n",
      "A value is trying to be set on a copy of a slice from a DataFrame.\n",
      "Try using .loc[row_indexer,col_indexer] = value instead\n",
      "\n",
      "See the caveats in the documentation: https://pandas.pydata.org/pandas-docs/stable/user_guide/indexing.html#returning-a-view-versus-a-copy\n",
      "  \"\"\"Entry point for launching an IPython kernel.\n"
     ]
    },
    {
     "data": {
      "image/png": "[encoded data removed]",
      "text/plain": [
       "<Figure size 864x288 with 1 Axes>"
      ]
     },
     "metadata": {
      "needs_background": "light"
     },
     "output_type": "display_data"
    }
   ],
   "source": [
    "G7['suicides/100k pop mean'] = G7.groupby('country')['suicides/100k pop'].transform('mean')\n",
    "plt.figure(figsize=(12,4))\n",
    "plt.subplot(122)\n",
    "ax = sns.barplot(data = G7, x = 'suicides/100k pop mean', y='country')\n",
    "plt.title('Suicide Rates', fontsize=14)\n",
    "plt.xlim([0,30])\n",
    "plt.ylabel(\"\")\n",
    "plt.box(False)\n",
    "plt.axvline(x= G7['suicides/100k pop mean'].mean(), color = 'gray', ls = '--')\n",
    "for p in ax.patches:\n",
    "    ax.annotate(\"{:,.2f}%\".format(p.get_width()), (p.get_x() + p.get_width(), p.get_y()+.4), ha='left', va='center')    \n",
    "plt.show()\n"
   ]
  },
  {
   "cell_type": "code",
   "execution_count": 36,
   "metadata": {},
   "outputs": [
    {
     "data": {
      "image/png": "[encoded data removed]",
      "text/plain": [
       "<Figure size 864x288 with 1 Axes>"
      ]
     },
     "metadata": {
      "needs_background": "light"
     },
     "output_type": "display_data"
    }
   ],
   "source": [
    "ndf['suicides/100k pop mean'] = ndf.groupby('continent')['suicides/100k pop'].transform('mean')\n",
    "plt.figure(figsize=(12,4))\n",
    "plt.subplot(122)\n",
    "ax = sns.barplot(data = ndf, x = 'suicides/100k pop mean', y='continent')\n",
    "plt.title('Suicide Rates', fontsize=14)\n",
    "plt.xlim([0,30])\n",
    "plt.ylabel(\"\")\n",
    "plt.box(False)\n",
    "plt.axvline(x= G7['suicides/100k pop mean'].mean(), color = 'gray', ls = '--')\n",
    "for p in ax.patches:\n",
    "    ax.annotate(\"{:,.2f}%\".format(p.get_width()), (p.get_x() + p.get_width(), p.get_y()+.4), ha='left', va='center')    \n",
    "plt.show()\n"
   ]
  },
  {
   "cell_type": "code",
   "execution_count": 37,
   "metadata": {},
   "outputs": [],
   "source": [
    "cont_list = ndf['continent'].unique()"
   ]
  },
  {
   "cell_type": "code",
   "execution_count": 38,
   "metadata": {},
   "outputs": [],
   "source": [
    "male = ndf['sex'] == 0\n",
    "female = ndf['sex'] == 1"
   ]
  },
  {
   "cell_type": "code",
   "execution_count": 39,
   "metadata": {},
   "outputs": [
    {
     "name": "stderr",
     "output_type": "stream",
     "text": [
      "C:\\Users\\SKM\\anaconda3\\lib\\site-packages\\ipykernel_launcher.py:11: FutureWarning: \n",
      "\n",
      "The `ci` parameter is deprecated. Use `errorbar=None` for the same effect.\n",
      "\n",
      "  # This is added back by InteractiveShellApp.init_path()\n"
     ]
    },
    {
     "data": {
      "image/png": "[encoded data removed]",
      "text/plain": [
       "<Figure size 864x432 with 2 Axes>"
      ]
     },
     "metadata": {
      "needs_background": "light"
     },
     "output_type": "display_data"
    }
   ],
   "source": [
    "for i, row in ndf.iterrows():\n",
    "    c = ndf.loc[i]['continent']\n",
    "    ndf.loc[i, 'male'] = ndf['suicides/100k pop'][(ndf['continent'] == c) & (ndf['sex'] == 0)].mean()\n",
    "    ndf.loc[i, 'female'] = ndf['suicides/100k pop'][(ndf['continent'] == c) & (ndf['sex'] == 1)].mean()\n",
    "\n",
    "\n",
    "ndf['ratio'] = ndf['male'] / ndf['female'] \n",
    "\n",
    "plt.figure(figsize=(12,6))\n",
    "plt.subplot(121)\n",
    "ax = sns.barplot(data = ndf, x = 'continent', order = cont_list, y = 'suicides/100k pop', hue = 'sex', ci=None, palette = 'ocean')\n",
    "plt.title('Male & Female Suicide Rates', fontsize=14)\n",
    "plt.xlabel(\"\")\n",
    "plt.xticks(rotation = 90)\n",
    "plt.ylim([0,30])\n",
    "plt.legend(title = \"\")\n",
    "plt.box(False)\n",
    "for p in ax.patches:\n",
    "    ax.annotate(\"%.1f\" % p.get_height(), (p.get_x() + p.get_width()/2, p.get_height()+1), ha='center', va='center')\n",
    "\n",
    "plt.subplot(122)\n",
    "ax = sns.barplot(x=ndf['continent'], y=ndf['ratio'], palette = 'winter')\n",
    "plt.title('Male vs. Female Suicide Ratio', fontsize=14)\n",
    "plt.xlabel(\"\")\n",
    "plt.xticks(rotation = 90)\n",
    "plt.ylabel('Male/Female Suicide Ratio')\n",
    "plt.ylim([1,5])\n",
    "plt.box(False)\n",
    "for p in ax.patches:\n",
    "    ax.annotate(\"%.2f\" % p.get_height(), (p.get_x() + p.get_width()/2, p.get_height()+.1), ha='center', va='center')\n",
    "\n",
    "plt.show()"
   ]
  },
  {
   "cell_type": "code",
   "execution_count": 40,
   "metadata": {},
   "outputs": [
    {
     "data": {
      "image/png": "[encoded data removed]",
      "text/plain": [
       "<Figure size 432x288 with 1 Axes>"
      ]
     },
     "metadata": {
      "needs_background": "light"
     },
     "output_type": "display_data"
    }
   ],
   "source": [
    "import seaborn as sns\n",
    "import matplotlib.pyplot as plt\n",
    "#Scatter plot\n",
    "sns.scatterplot(data=ndf, x='gdp_per_capita ($)', y='suicides/100k pop', hue='continent', palette='Dark2')\n",
    "plt.xlabel('GDP per capita ($)')\n",
    "plt.ylabel('Suicides/100k pop')\n",
    "plt.title('Suicide Rates vs. GDP per Capita by Continent')\n",
    "plt.show()"
   ]
  },
  {
   "cell_type": "code",
   "execution_count": 41,
   "metadata": {},
   "outputs": [
    {
     "data": {
      "image/png": "[encoded data removed]",
      "text/plain": [
       "<Figure size 432x288 with 1 Axes>"
      ]
     },
     "metadata": {
      "needs_background": "light"
     },
     "output_type": "display_data"
    }
   ],
   "source": [
    "import seaborn as sns\n",
    "import matplotlib.pyplot as plt\n",
    "sns.barplot(data=ndf, x='continent', y='suicides/100k pop', hue = 'sex', palette='Dark2')\n",
    "plt.xlabel('Continent')\n",
    "plt.ylabel('Suicides/100k population')\n",
    "plt.title('Number of Suicides by Continent')\n",
    "plt.show()"
   ]
  },
  {
   "cell_type": "code",
   "execution_count": 42,
   "metadata": {},
   "outputs": [
    {
     "name": "stderr",
     "output_type": "stream",
     "text": [
      "C:\\Users\\SKM\\anaconda3\\lib\\site-packages\\ipykernel_launcher.py:7: SettingWithCopyWarning: \n",
      "A value is trying to be set on a copy of a slice from a DataFrame.\n",
      "Try using .loc[row_indexer,col_indexer] = value instead\n",
      "\n",
      "See the caveats in the documentation: https://pandas.pydata.org/pandas-docs/stable/user_guide/indexing.html#returning-a-view-versus-a-copy\n",
      "  import sys\n"
     ]
    }
   ],
   "source": [
    "low_income_cutoff = 1000\n",
    "middle_income_cutoff = 4000\n",
    "high_income_cutoff = 12500\n",
    "income_df = ndf[['country', 'year', 'continent', 'gdp_per_capita ($)', 'suicides/100k pop']]\n",
    "income_df['income_group'] = pd.cut(income_df['gdp_per_capita ($)'], \n",
    "                                   bins=[0, low_income_cutoff, middle_income_cutoff, high_income_cutoff, float('inf')], \n",
    "                                   labels=['low', 'middle_lower', 'middle_upper', 'high'])\n",
    "low_income_countries = income_df[income_df['income_group'] == 'low']['country'].unique()\n",
    "middle_lower_income_countries = income_df[income_df['income_group'] == 'middle_lower']['country'].unique()\n",
    "middle_upper_income_countries = income_df[income_df['income_group'] == 'middle_upper']['country'].unique()\n",
    "high_income_countries = income_df[income_df['income_group'] == 'high']['country'].unique()"
   ]
  },
  {
   "cell_type": "code",
   "execution_count": 43,
   "metadata": {},
   "outputs": [],
   "source": [
    "mean_suicide_rates = income_df.groupby('income_group')['suicides/100k pop'].mean()"
   ]
  },
  {
   "cell_type": "code",
   "execution_count": 44,
   "metadata": {},
   "outputs": [
    {
     "data": {
      "text/plain": [
       "income_group\n",
       "low             11.060749\n",
       "middle_lower    12.824966\n",
       "middle_upper    10.692424\n",
       "high            12.953569\n",
       "Name: suicides/100k pop, dtype: float64"
      ]
     },
     "execution_count": 44,
     "metadata": {},
     "output_type": "execute_result"
    }
   ],
   "source": [
    "mean_suicide_rates"
   ]
  },
  {
   "cell_type": "code",
   "execution_count": 45,
   "metadata": {},
   "outputs": [
    {
     "data": {
      "text/plain": [
       "Index(['Unnamed: 0', 'country', 'year', 'sex', 'suicides_no', 'population',\n",
       "       'suicides/100k pop', ' gdp_for_year ($) ', 'gdp_per_capita ($)',\n",
       "       'generation', 'age_group', 'continent', 'suicides/100k pop mean',\n",
       "       'male', 'female', 'ratio'],\n",
       "      dtype='object')"
      ]
     },
     "execution_count": 45,
     "metadata": {},
     "output_type": "execute_result"
    }
   ],
   "source": [
    "ndf.columns"
   ]
  },
  {
   "cell_type": "markdown",
   "metadata": {},
   "source": [
    "------------"
   ]
  },
  {
   "cell_type": "code",
   "execution_count": 46,
   "metadata": {},
   "outputs": [],
   "source": [
    "df1 = ndf"
   ]
  },
  {
   "cell_type": "code",
   "execution_count": 47,
   "metadata": {},
   "outputs": [],
   "source": [
    "gen={0:'Generation X', 1:'Silent', 2:'G.I. Generation',3:'Boomers',\n",
    "       4:'Millenials', 5:'Generation Z'}\n",
    "df1['generation'].replace(gen,inplace=True)"
   ]
  },
  {
   "cell_type": "code",
   "execution_count": 48,
   "metadata": {},
   "outputs": [],
   "source": [
    "gen_df = df1[['generation', 'suicides/100k pop']]\n"
   ]
  },
  {
   "cell_type": "code",
   "execution_count": 49,
   "metadata": {},
   "outputs": [],
   "source": [
    "gen_means = gen_df.groupby('generation').mean()"
   ]
  },
  {
   "cell_type": "code",
   "execution_count": 50,
   "metadata": {},
   "outputs": [],
   "source": [
    "df2 = gen_means.reset_index()"
   ]
  },
  {
   "cell_type": "code",
   "execution_count": 51,
   "metadata": {},
   "outputs": [
    {
     "data": {
      "text/plain": [
       "9.425240417980191"
      ]
     },
     "execution_count": 51,
     "metadata": {},
     "output_type": "execute_result"
    }
   ],
   "source": [
    "gen_means['suicides/100k pop']['Generation X']"
   ]
  },
  {
   "cell_type": "code",
   "execution_count": 52,
   "metadata": {},
   "outputs": [],
   "source": [
    "gen_means_df = df.groupby('generation').mean()['suicides/100k pop']"
   ]
  },
  {
   "cell_type": "markdown",
   "metadata": {},
   "source": [
    "## --------TESTING----------"
   ]
  },
  {
   "cell_type": "code",
   "execution_count": 53,
   "metadata": {},
   "outputs": [
    {
     "name": "stdout",
     "output_type": "stream",
     "text": [
      "F-value: 437.8845966537154\n",
      "P-value: 0.0\n"
     ]
    }
   ],
   "source": [
    "import pandas as pd\n",
    "import scipy.stats as stats\n",
    "f_val, p_val = stats.f_oneway(*[df[df['generation']==gen]['suicides/100k pop'] for gen in gen_means_df.index])\n",
    "print('F-value:', f_val)\n",
    "print('P-value:', p_val)"
   ]
  },
  {
   "cell_type": "code",
   "execution_count": 54,
   "metadata": {},
   "outputs": [],
   "source": [
    "con_means_df = ndf.groupby('continent').mean()['suicides/100k pop']"
   ]
  },
  {
   "cell_type": "code",
   "execution_count": 55,
   "metadata": {},
   "outputs": [
    {
     "data": {
      "text/plain": [
       "continent\n",
       "Africa            6.617775\n",
       "Asia             11.483538\n",
       "Europe           16.187772\n",
       "North America     6.889286\n",
       "Oceania          11.068231\n",
       "South America    10.563568\n",
       "Name: suicides/100k pop, dtype: float64"
      ]
     },
     "execution_count": 55,
     "metadata": {},
     "output_type": "execute_result"
    }
   ],
   "source": [
    "con_means_df"
   ]
  },
  {
   "cell_type": "code",
   "execution_count": 56,
   "metadata": {},
   "outputs": [
    {
     "name": "stdout",
     "output_type": "stream",
     "text": [
      "F-value: 184.27868898897304\n",
      "P-value: 5.4127760169352904e-194\n"
     ]
    }
   ],
   "source": [
    "f_val, p_val = stats.f_oneway(*[ndf[ndf['continent']==gen]['suicides/100k pop'] for gen in con_means_df.index])\n",
    "print('F-value:', f_val)\n",
    "print('P-value:', p_val)"
   ]
  },
  {
   "cell_type": "code",
   "execution_count": null,
   "metadata": {},
   "outputs": [],
   "source": []
  }
 ],
 "metadata": {
  "kernelspec": {
   "display_name": "Python 3",
   "language": "python",
   "name": "python3"
  },
  "language_info": {
   "codemirror_mode": {
    "name": "ipython",
    "version": 3
   },
   "file_extension": ".py",
   "mimetype": "text/x-python",
   "name": "python",
   "nbconvert_exporter": "python",
   "pygments_lexer": "ipython3",
   "version": "3.7.6"
  }
 },
 "nbformat": 4,
 "nbformat_minor": 4
}
